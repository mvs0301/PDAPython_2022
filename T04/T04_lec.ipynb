{
 "cells": [
  {
   "cell_type": "markdown",
   "metadata": {},
   "source": [
    "<img src=\"../Img/banner-fa-49-2.png\">\n",
    "\n",
    "17 октября 2022 года, ВМ/462, ул. Верхняя Масловка, д. 15<br>\n",
    "14:00 - 15:30, 4-я пара<br>\n",
    "\n",
    "Студенты: Поток УЦИ21-1, УЦИ-21-2<br>\n",
    "\n",
    "Преподаватель: Смирнов Михаил Викторович,<br>\n",
    "доцент Департамента Анализа данных и машинного обучения<br>\n",
    "Финансового университета при Правительстве Российской Федерации\n",
    "\n",
    "<p style=\"font-size:150%\">Лекция</p>\n",
    "\n",
    "# Алгоритмы и струткуры данных"
   ]
  },
  {
   "cell_type": "markdown",
   "metadata": {},
   "source": [
    "<a id=Ref></a>\n",
    "# Оглавление\n",
    "\n",
    "[1. Сложность алгоритмов](#1)<br>\n",
    "[2. Массивы](#2)<br>\n",
    "[3. Стек](#3)<br>\n",
    "[4. Очередь](#4)<br>\n",
    "[5. Алгоритмы](#5)"
   ]
  },
  {
   "cell_type": "markdown",
   "metadata": {},
   "source": [
    "<a id=1></a>\n",
    "[Оглавление](#Ref)|| [=>](#2)\n",
    "\n",
    "## 1. Сложность алгоритмов\n",
    "\n",
    "Пример результата экспериментального определения продолжительности исполнения алгоритма для различного объема входных данных. Для одного и того же размера данных вермя работы может отличаться.\n",
    "\n",
    "<img src=\"../Img/lec04_01.png\" style=\"width:50%\">\n",
    "\n",
    "<br>\n",
    "\n",
    "**Сложности экспериментального анализа эффективности алгоритма**\n",
    "\n",
    "- Экспериментальное время работы двух алгоритмов сложно напрямую сравнить до тех пор, пока эксперименты не будут проведены на одинаковом аппаратном обеспечении и в одинаковом программном окружении.\n",
    "\n",
    "- Эксперименты могут быть выполнены только для ограниченного набора тестовых входных данных. Таким образом, они не учитывают время работы на входных данных, которые не были включены в набор тестовых входных данных, а эти результаты могут быть важны.\n",
    "\n",
    "- Для экспериментальной оценки производительности алгоритма он должен быть полностью реализован на одном из языков программирования.\n",
    "\n",
    "<br>\n",
    "\n",
    "**Решение: подсчет числа базовых операций**\n",
    "\n",
    "Для анализа времени исполнения алгоритма без его экспериментального выполнения мы можем выполнить непосредственный анализ на базе высокоуровневого описания алгоритма (в виде псевдо-кода или фрагмента кода на настоящем языке программирования).\n",
    "\n",
    "Набор рассматриваемых примитивных операций:\n",
    "\n",
    "\n",
    "- Присвоение значения идентификатору.\n",
    "- Выполнение арифметической операции (например, сложения двух чисел).\n",
    "- Сравнение двух чисел.\n",
    "- Получение одного элемента из контейнера (например, списка) по индексу.\n",
    "- Выполнение вызова функции (операции, выполняемые внутри функции, должны учитываться дополнительно).\n",
    "- Возврат из функции.\n",
    "\n",
    "При этом на разных наборах входных данных результат измерения скорости работы алгоритма может отличаться.\n",
    "\n",
    "<img src=\"../Img/lec04_02.png\" style=\"width:60%\">\n",
    "\n",
    "\n",
    "**Асимптотическая оценка сложности алгоритма**\n",
    "\n",
    "Пусть функции $f(n)$ и $g(n)$ отображают положительные целые числа на положительные действительные числа.\n",
    "Тогда $f(n)$ является  $\\pmb{O}(g(n))$, если существуют действительная константа $c > 0$ и целая константа $n_0 \\ge 1$ такая, что $f (n) \\le cg(n)$, для $n \\ge n_0$.\n",
    "\n",
    "<img src=\"../Img/lec04_03.png\" style=\"width:40%\">\n",
    "\n",
    "Функции, которые часто используются в качестве $g(n)$ для асимптотических оценок сложности алгоритмов:\n",
    "\n",
    "<img src=\"../Img/lec04_04.png\" style=\"width:60%\">\n",
    "\n",
    "Графики этих функций:\n",
    "<img src=\"../Img/lec04_05.png\" style=\"width:60%\">\n",
    "\n",
    "Другие виды асимптотических оценок.\n",
    "\n",
    "<img src=\"../Img/lec04_06.png\" style=\"width:60%\">"
   ]
  },
  {
   "cell_type": "markdown",
   "metadata": {},
   "source": [
    "<a id=2></a>\n",
    "[<=](#1) || [Оглавление](#Ref)|| [=>](#3)\n",
    "\n",
    "## 2. Массивы\n",
    "\n",
    "Оперативная память компьютера - набор адресованных ячеек.\n",
    "Область памяти (RAM):\n",
    "\n",
    "<img src=\"../Img/lec04_07.png\" style=\"width:60%\">\n",
    "\n",
    "Как правило, каждая ячейка имеет свой адрес, ячейку можно прочитать, либо что-любо в нее записать."
   ]
  },
  {
   "cell_type": "code",
   "execution_count": 4,
   "metadata": {},
   "outputs": [],
   "source": [
    "s1 = 'SAMPLE' # в действительности хранятся ссылки на буквы!"
   ]
  },
  {
   "cell_type": "markdown",
   "metadata": {},
   "source": [
    "Высокоуровневая абстракция строки - список символов, к к каждому символу можно обращаться по индексу.\n",
    "\n",
    "<img src=\"../Img/lec04_08.png\" style=\"width:30%\">"
   ]
  },
  {
   "cell_type": "code",
   "execution_count": 2,
   "metadata": {},
   "outputs": [
    {
     "data": {
      "text/plain": [
       "('S', 'P')"
      ]
     },
     "execution_count": 2,
     "metadata": {},
     "output_type": "execute_result"
    }
   ],
   "source": [
    "s1[0], s1[3]"
   ]
  },
  {
   "cell_type": "markdown",
   "metadata": {},
   "source": [
    "Реальное расположение строки в памяти (RAM):\n",
    "\n",
    "<img src=\"../Img/lec04_09.png\" style=\"width:60%\">"
   ]
  },
  {
   "cell_type": "code",
   "execution_count": 15,
   "metadata": {},
   "outputs": [],
   "source": [
    "lst_1 = ['Rene', 'Joseph', 'Janet', 'Jonas', 'Helen', 'Virginia', 'Mary' ]"
   ]
  },
  {
   "cell_type": "markdown",
   "metadata": {},
   "source": [
    "Работа массива ссылок:\n",
    "<img src=\"../Img/lec04_10.png\" style=\"width:60%\">\n",
    "\n",
    "Массив `array` хранит непосредственно объекты (а не ссылки на них), что обеспечивает более быстрый доступ и значительно меньший объем памяти для хранения тех же данных (на типе `int` экономия памяти может составлять 4-5 раз!). Минус: массивы, так же как и в других языках, могут хранить только объекты одного типа.\n",
    "\n",
    "https://docs.python.org/3/library/array.html"
   ]
  },
  {
   "cell_type": "code",
   "execution_count": 5,
   "metadata": {},
   "outputs": [],
   "source": [
    "import array # модуль для работы с массивами в Python"
   ]
  },
  {
   "cell_type": "code",
   "execution_count": 8,
   "metadata": {},
   "outputs": [
    {
     "name": "stdout",
     "output_type": "stream",
     "text": [
      "10\n",
      "2 11\n"
     ]
    }
   ],
   "source": [
    "ar1 = array.array('i' , [2, 3, 5, 7, 11, 13, 17, 19, 21, 25])\n",
    "\n",
    "print(len(ar1))\n",
    "\n",
    "print(ar1[0], ar1[4])"
   ]
  },
  {
   "cell_type": "code",
   "execution_count": 9,
   "metadata": {},
   "outputs": [],
   "source": [
    "import sys"
   ]
  },
  {
   "cell_type": "code",
   "execution_count": 12,
   "metadata": {},
   "outputs": [
    {
     "data": {
      "text/plain": [
       "104"
      ]
     },
     "execution_count": 12,
     "metadata": {},
     "output_type": "execute_result"
    }
   ],
   "source": [
    "sys.getsizeof(ar1) # Сколько места в памяти занимает массив"
   ]
  },
  {
   "cell_type": "code",
   "execution_count": 13,
   "metadata": {},
   "outputs": [
    {
     "data": {
      "text/plain": [
       "(152, 10)"
      ]
     },
     "execution_count": 13,
     "metadata": {},
     "output_type": "execute_result"
    }
   ],
   "source": [
    "# Сколько памяти использует список\n",
    "\n",
    "lst_2=[2, 3, 5, 7, 11, 13, 17, 19, 21, 25]\n",
    "\n",
    "sys.getsizeof(lst_2), len(lst_2)"
   ]
  },
  {
   "cell_type": "code",
   "execution_count": 14,
   "metadata": {},
   "outputs": [
    {
     "data": {
      "text/plain": [
       "(28, 28)"
      ]
     },
     "execution_count": 14,
     "metadata": {},
     "output_type": "execute_result"
    }
   ],
   "source": [
    "# Сколько памяти использует одно число\n",
    "\n",
    "sys.getsizeof(2), sys.getsizeof(777)"
   ]
  },
  {
   "cell_type": "code",
   "execution_count": 16,
   "metadata": {},
   "outputs": [
    {
     "data": {
      "text/plain": [
       "432"
      ]
     },
     "execution_count": 16,
     "metadata": {},
     "output_type": "execute_result"
    }
   ],
   "source": [
    "# Сколько на самом деле памяти использует список\n",
    "\n",
    "sys.getsizeof(lst_2) + len(lst_2) * sys.getsizeof(2)"
   ]
  },
  {
   "cell_type": "markdown",
   "metadata": {},
   "source": [
    "<h4>Использование класса <i>array</i></h4>\n",
    "\n",
    "`array.array(TypeCode [, инициализатор])`\n",
    "\n",
    "Класс array.array(TypeCode [, инициализатор]) - новый массив, элементы которого ограничены TypeCode, и инициализатор, который должен быть списком, объектом, поддерживающим интерфейс буфера, или итерируемым объектом.\n",
    "\n",
    "<h4>Методы класса <i>array</i></h4>\n",
    "\n",
    "\n",
    "array.typecode - TypeCode символ, использованный при создании массива.\n",
    "\n",
    "array.itemsize - размер в байтах одного элемента в массиве.\n",
    "\n",
    "array.append(х) - добавление элемента в конец массива.\n",
    "\n",
    "array.buffer_info() - кортеж (ячейка памяти, длина). Полезно для низкоуровневых операций.\n",
    "\n",
    "array.byteswap() - изменить порядок следования байтов в каждом элементе массива. Полезно при чтении данных из файла, написанного на машине с другим порядком байтов.\n",
    "\n",
    "array.count(х) - возвращает количество вхождений х в массив.\n",
    "\n",
    "array.extend(iter) - добавление элементов из объекта в массив.\n",
    "\n",
    "array.frombytes(b) - делает массив array из массива байт. Количество байт должно быть кратно размеру одного элемента в массиве.\n",
    "\n",
    "array.fromfile(F, N) - читает N элементов из файла и добавляет их в конец массива. Файл должен быть открыт на бинарное чтение. Если доступно меньше N элементов, генерируется исключение EOFError , но элементы, которые были доступны, добавляются в массив.\n",
    "\n",
    "array.fromlist(список) - добавление элементов из списка.\n",
    "\n",
    "array.index(х) - номер первого вхождения x в массив.\n",
    "\n",
    "array.insert(n, х) - включить новый пункт со значением х в массиве перед номером n. Отрицательные значения рассматриваются относительно конца массива.\n",
    "\n",
    "array.pop(i) - удаляет i-ый элемент из массива и возвращает его. По умолчанию удаляется последний элемент.\n",
    "\n",
    "array.remove(х) - удалить первое вхождение х из массива.\n",
    "\n",
    "array.reverse() - обратный порядок элементов в массиве.\n",
    "\n",
    "array.tobytes() - преобразование к байтам.\n",
    "\n",
    "array.tofile(f) - запись массива в открытый файл.\n",
    "\n",
    "array.tolist() - преобразование массива в список."
   ]
  },
  {
   "cell_type": "markdown",
   "metadata": {},
   "source": [
    "### Динамические массивы"
   ]
  },
  {
   "cell_type": "code",
   "execution_count": 19,
   "metadata": {},
   "outputs": [
    {
     "name": "stdout",
     "output_type": "stream",
     "text": [
      "Length:   0; Size in bytes:   56\n",
      "Length:   1; Size in bytes:   88\n",
      "Length:   2; Size in bytes:   88\n",
      "Length:   3; Size in bytes:   88\n",
      "Length:   4; Size in bytes:   88\n",
      "Length:   5; Size in bytes:  120\n",
      "Length:   6; Size in bytes:  120\n",
      "Length:   7; Size in bytes:  120\n",
      "Length:   8; Size in bytes:  120\n",
      "Length:   9; Size in bytes:  184\n",
      "Length:  10; Size in bytes:  184\n",
      "Length:  11; Size in bytes:  184\n",
      "Length:  12; Size in bytes:  184\n",
      "Length:  13; Size in bytes:  184\n",
      "Length:  14; Size in bytes:  184\n",
      "Length:  15; Size in bytes:  184\n",
      "Length:  16; Size in bytes:  184\n",
      "Length:  17; Size in bytes:  248\n",
      "Length:  18; Size in bytes:  248\n",
      "Length:  19; Size in bytes:  248\n",
      "Length:  20; Size in bytes:  248\n",
      "Length:  21; Size in bytes:  248\n",
      "Length:  22; Size in bytes:  248\n",
      "Length:  23; Size in bytes:  248\n",
      "Length:  24; Size in bytes:  248\n",
      "Length:  25; Size in bytes:  312\n",
      "Length:  26; Size in bytes:  312\n",
      "Length:  27; Size in bytes:  312\n",
      "Length:  28; Size in bytes:  312\n",
      "Length:  29; Size in bytes:  312\n",
      "Length:  30; Size in bytes:  312\n",
      "Length:  31; Size in bytes:  312\n",
      "Length:  32; Size in bytes:  312\n"
     ]
    }
   ],
   "source": [
    "data = []\n",
    "n = 33\n",
    "for k in range(n): \n",
    "    a = len(data) # количество элементов в списке\n",
    "    b = sys.getsizeof(data) # текущий размер списка в байтах \n",
    "    print(f'Length: {a:3d}; Size in bytes: {b:4d}')\n",
    "    data.append(None) # добавляем элемент в список"
   ]
  },
  {
   "cell_type": "markdown",
   "metadata": {},
   "source": [
    "Процесс роста динамического массива:\n",
    "<img src=\"../Img/lec04_11.png\" style=\"width:80%\">\n",
    "\n",
    "Длительность вставки элемента в конец динамического массива:\n",
    "<img src=\"../Img/lec04_12.png\" style=\"width:35%\">\n",
    "\n",
    "Длительность вставки элемента в конец динамического массива при арифметической прогрессии длины массива:\n",
    "<img src=\"../Img/lec04_13.png\" style=\"width:60%\">\n",
    "\n",
    "\n",
    "<h4>Асимптотическая эффективность операций для списка (кортежа) (list/tuple), не меняющих содержимое структуры данных.</h4>\n",
    "\n",
    "Идентификаторы объектов: data или data1 и data2, и соответственно их длины: $n$, $n_1$ и $n_2$. $k$ обозначает индекс первого вхождения (слева) искомого элемента, в случае отсутствия элемента $k=n$. При сравнении двух последовательностей k показывает самый левый элемент, на котором последовательности не согласуются или $k = min(n_1, n_2)$.\n",
    "\n",
    "Асимптотическая эффективность операций для списка (list), не меняющих содержимое структуры данных.<br>\n",
    "<img src=\"../Img/lec04_15.png\" style=\"width:35%\">\n",
    "\n",
    "Асимптотическая эффективность операций для списка (list), меняющего содержимое структуры данных.<br>\n",
    "<img src=\"../Img/lec04_14.png\" style=\"width:35%\">\n",
    "\n",
    "Освобождение места для вставки элемента в список (list): \n",
    "<img src=\"../Img/lec04_16.png\" style=\"width:35%\">\n",
    "\n",
    "Среднее време операции insert(k, val), измеренное в микросекундах (N - длина списка):\n",
    "<img src=\"../Img/lec04_17.png\" style=\"width:40%\">\n",
    "\n",
    "Подведём итог: список как массив ссылок представляет собой динамический массив. Каждый элемент списка ссылается на облвсть в памяти, в которой хранятся значения переменных."
   ]
  },
  {
   "cell_type": "markdown",
   "metadata": {},
   "source": [
    "<a id=3></a>\n",
    "[<=](#2) || [Оглавление](#Ref)|| [=>](#4)\n",
    "\n",
    "## 3. Стек\n",
    "\n",
    "Пример физической реализации стека:\n",
    "<img src=\"../Img/lec04_18.png\" style=\"width:20%\">\n",
    "\n",
    "Стек реализует принцип LIFO - last-in, first-out.\n",
    "\n",
    "<br>\n",
    "\n",
    "__Абстрактная структура данных Стек:__\n",
    "\n",
    "Базовые операции для работы со стеком:\n",
    "\n",
    "* __S.push(e)__: добавление элемента e на вершину стека S.\n",
    "* __S.pop()__: удаляет и возвращает верхний элемент стека S. Если стек пуст, то возникает ошибка."
   ]
  },
  {
   "cell_type": "code",
   "execution_count": 1,
   "metadata": {},
   "outputs": [],
   "source": [
    "from collections import deque"
   ]
  },
  {
   "cell_type": "code",
   "execution_count": 2,
   "metadata": {},
   "outputs": [],
   "source": [
    "class Stack(deque):\n",
    "    def push(self, a):\n",
    "        self.append(a)"
   ]
  },
  {
   "cell_type": "code",
   "execution_count": 3,
   "metadata": {},
   "outputs": [
    {
     "data": {
      "text/plain": [
       "Stack([])"
      ]
     },
     "execution_count": 3,
     "metadata": {},
     "output_type": "execute_result"
    }
   ],
   "source": [
    "# Создание пустого стека\n",
    "s1 = Stack()\n",
    "s1"
   ]
  },
  {
   "cell_type": "code",
   "execution_count": 4,
   "metadata": {},
   "outputs": [
    {
     "name": "stdout",
     "output_type": "stream",
     "text": [
      "Stack([5])\n"
     ]
    }
   ],
   "source": [
    "s1.push(5)\n",
    "print(s1)"
   ]
  },
  {
   "cell_type": "code",
   "execution_count": 5,
   "metadata": {},
   "outputs": [
    {
     "name": "stdout",
     "output_type": "stream",
     "text": [
      "Stack([5, 3])\n"
     ]
    }
   ],
   "source": [
    "s1.push(3)\n",
    "print(s1)"
   ]
  },
  {
   "cell_type": "code",
   "execution_count": 6,
   "metadata": {},
   "outputs": [
    {
     "name": "stdout",
     "output_type": "stream",
     "text": [
      "Stack([5, 3, 4])\n"
     ]
    }
   ],
   "source": [
    "s1.push(4)\n",
    "print(s1)"
   ]
  },
  {
   "cell_type": "code",
   "execution_count": 7,
   "metadata": {},
   "outputs": [
    {
     "data": {
      "text/plain": [
       "4"
      ]
     },
     "execution_count": 7,
     "metadata": {},
     "output_type": "execute_result"
    }
   ],
   "source": [
    "s1.pop()"
   ]
  },
  {
   "cell_type": "code",
   "execution_count": 8,
   "metadata": {},
   "outputs": [
    {
     "data": {
      "text/plain": [
       "Stack([5, 3])"
      ]
     },
     "execution_count": 8,
     "metadata": {},
     "output_type": "execute_result"
    }
   ],
   "source": [
    "s1"
   ]
  },
  {
   "cell_type": "code",
   "execution_count": 10,
   "metadata": {},
   "outputs": [
    {
     "data": {
      "text/plain": [
       "Stack([5, 3, 7, 7])"
      ]
     },
     "execution_count": 10,
     "metadata": {},
     "output_type": "execute_result"
    }
   ],
   "source": [
    "s1.push(7)\n",
    "s1"
   ]
  },
  {
   "cell_type": "code",
   "execution_count": 11,
   "metadata": {},
   "outputs": [
    {
     "data": {
      "text/plain": [
       "7"
      ]
     },
     "execution_count": 11,
     "metadata": {},
     "output_type": "execute_result"
    }
   ],
   "source": [
    "s1.pop()"
   ]
  },
  {
   "cell_type": "code",
   "execution_count": 12,
   "metadata": {},
   "outputs": [
    {
     "name": "stdout",
     "output_type": "stream",
     "text": [
      "Stack([5, 3, 7])\n"
     ]
    }
   ],
   "source": [
    "print(s1)"
   ]
  },
  {
   "cell_type": "code",
   "execution_count": 14,
   "metadata": {},
   "outputs": [
    {
     "data": {
      "text/plain": [
       "3"
      ]
     },
     "execution_count": 14,
     "metadata": {},
     "output_type": "execute_result"
    }
   ],
   "source": [
    "s1.pop()\n",
    "s1.pop()"
   ]
  },
  {
   "cell_type": "code",
   "execution_count": 15,
   "metadata": {},
   "outputs": [
    {
     "name": "stdout",
     "output_type": "stream",
     "text": [
      "Stack([5])\n"
     ]
    }
   ],
   "source": [
    "print(s1)"
   ]
  },
  {
   "cell_type": "code",
   "execution_count": 16,
   "metadata": {},
   "outputs": [
    {
     "data": {
      "text/plain": [
       "5"
      ]
     },
     "execution_count": 16,
     "metadata": {},
     "output_type": "execute_result"
    }
   ],
   "source": [
    "s1.pop()"
   ]
  },
  {
   "cell_type": "code",
   "execution_count": 17,
   "metadata": {},
   "outputs": [
    {
     "data": {
      "text/plain": [
       "Stack([])"
      ]
     },
     "execution_count": 17,
     "metadata": {},
     "output_type": "execute_result"
    }
   ],
   "source": [
    "s1"
   ]
  },
  {
   "cell_type": "code",
   "execution_count": 18,
   "metadata": {},
   "outputs": [
    {
     "ename": "IndexError",
     "evalue": "pop from an empty deque",
     "output_type": "error",
     "traceback": [
      "\u001b[1;31m---------------------------------------------------------------------------\u001b[0m",
      "\u001b[1;31mIndexError\u001b[0m                                Traceback (most recent call last)",
      "Input \u001b[1;32mIn [18]\u001b[0m, in \u001b[0;36m<cell line: 1>\u001b[1;34m()\u001b[0m\n\u001b[1;32m----> 1\u001b[0m \u001b[43ms1\u001b[49m\u001b[38;5;241;43m.\u001b[39;49m\u001b[43mpop\u001b[49m\u001b[43m(\u001b[49m\u001b[43m)\u001b[49m\n",
      "\u001b[1;31mIndexError\u001b[0m: pop from an empty deque"
     ]
    }
   ],
   "source": [
    "s1.pop()"
   ]
  },
  {
   "cell_type": "markdown",
   "metadata": {},
   "source": [
    "Дополнительные операции для работы со стеком:\n",
    "\n",
    "* __S.top()__: возвращает верхний элемент стека S, не удаляя его. Если стек пуст, то возникает ошибка.\n",
    "* __S.is_empty( )__: возвращает True, если стек S не содержит ни одного элемента.\n",
    "* __len(S)__: возвращает количество элементов в стеке S.\n",
    "\n",
    "<br>\n",
    "\n",
    "Реализация стека на базе списка (list):\n",
    "<img src=\"../Img/lec04_19.png\" style=\"width:45%\">\n",
    "\n",
    "<br>\n",
    "\n",
    "Производительность реализации стека на базе динамического массива:\n",
    "<img src=\"../Img/lec04_20.png\" style=\"width:35%\">"
   ]
  },
  {
   "cell_type": "markdown",
   "metadata": {},
   "source": [
    "<a id=4></a>\n",
    "[<=](#3) || [Оглавление](#Ref)|| [=>](#5)\n",
    "\n",
    "## 4. Очередь\n",
    "\n",
    "Пример физической реализации очереди:\n",
    "\n",
    "<img src=\"../Img/lec04_21.png\" style=\"width:35%\">\n",
    "\n",
    "<br>\n",
    "\n",
    "Очередь реализует принцип FIFO - first-in, first-out.\n",
    "\n",
    "<br>\n",
    "\n",
    "Базовые операции для работы с очередью:\n",
    "\n",
    "Q.enqueue(e): добавление элемента e в конец очереди Q.\n",
    "Q.dequeue(): удаляет и возвращает первый элемент очереди Q. Если очередь пуста, то возникает ошибка."
   ]
  },
  {
   "cell_type": "code",
   "execution_count": 20,
   "metadata": {},
   "outputs": [],
   "source": [
    "class Queue(deque):\n",
    "    def enqueue(self, a):\n",
    "        self.append(a)\n",
    "        \n",
    "    def dequeue(self):\n",
    "        return self.popleft()"
   ]
  },
  {
   "cell_type": "code",
   "execution_count": 21,
   "metadata": {},
   "outputs": [
    {
     "data": {
      "text/plain": [
       "Queue([])"
      ]
     },
     "execution_count": 21,
     "metadata": {},
     "output_type": "execute_result"
    }
   ],
   "source": [
    "q1 = Queue()\n",
    "q1"
   ]
  },
  {
   "cell_type": "code",
   "execution_count": 22,
   "metadata": {},
   "outputs": [
    {
     "data": {
      "text/plain": [
       "Queue([5])"
      ]
     },
     "execution_count": 22,
     "metadata": {},
     "output_type": "execute_result"
    }
   ],
   "source": [
    "q1.enqueue(5)\n",
    "q1"
   ]
  },
  {
   "cell_type": "code",
   "execution_count": 23,
   "metadata": {},
   "outputs": [
    {
     "data": {
      "text/plain": [
       "Queue([5, 3])"
      ]
     },
     "execution_count": 23,
     "metadata": {},
     "output_type": "execute_result"
    }
   ],
   "source": [
    "q1.enqueue(3)\n",
    "q1"
   ]
  },
  {
   "cell_type": "code",
   "execution_count": 24,
   "metadata": {},
   "outputs": [
    {
     "data": {
      "text/plain": [
       "Queue([5, 3, 4])"
      ]
     },
     "execution_count": 24,
     "metadata": {},
     "output_type": "execute_result"
    }
   ],
   "source": [
    "q1.enqueue(4)\n",
    "q1"
   ]
  },
  {
   "cell_type": "code",
   "execution_count": 25,
   "metadata": {},
   "outputs": [
    {
     "data": {
      "text/plain": [
       "5"
      ]
     },
     "execution_count": 25,
     "metadata": {},
     "output_type": "execute_result"
    }
   ],
   "source": [
    "q1.dequeue()"
   ]
  },
  {
   "cell_type": "code",
   "execution_count": 26,
   "metadata": {},
   "outputs": [
    {
     "data": {
      "text/plain": [
       "Queue([3, 4])"
      ]
     },
     "execution_count": 26,
     "metadata": {},
     "output_type": "execute_result"
    }
   ],
   "source": [
    "q1"
   ]
  },
  {
   "cell_type": "code",
   "execution_count": 27,
   "metadata": {},
   "outputs": [
    {
     "data": {
      "text/plain": [
       "Queue([3, 4, 7])"
      ]
     },
     "execution_count": 27,
     "metadata": {},
     "output_type": "execute_result"
    }
   ],
   "source": [
    "q1.enqueue(7)\n",
    "q1"
   ]
  },
  {
   "cell_type": "code",
   "execution_count": 28,
   "metadata": {},
   "outputs": [
    {
     "data": {
      "text/plain": [
       "3"
      ]
     },
     "execution_count": 28,
     "metadata": {},
     "output_type": "execute_result"
    }
   ],
   "source": [
    "q1.dequeue()"
   ]
  },
  {
   "cell_type": "code",
   "execution_count": 29,
   "metadata": {},
   "outputs": [
    {
     "data": {
      "text/plain": [
       "Queue([4, 7])"
      ]
     },
     "execution_count": 29,
     "metadata": {},
     "output_type": "execute_result"
    }
   ],
   "source": [
    "q1"
   ]
  },
  {
   "cell_type": "code",
   "execution_count": 30,
   "metadata": {},
   "outputs": [
    {
     "data": {
      "text/plain": [
       "4"
      ]
     },
     "execution_count": 30,
     "metadata": {},
     "output_type": "execute_result"
    }
   ],
   "source": [
    "q1.dequeue()"
   ]
  },
  {
   "cell_type": "code",
   "execution_count": 31,
   "metadata": {},
   "outputs": [
    {
     "data": {
      "text/plain": [
       "Queue([7])"
      ]
     },
     "execution_count": 31,
     "metadata": {},
     "output_type": "execute_result"
    }
   ],
   "source": [
    "q1"
   ]
  },
  {
   "cell_type": "code",
   "execution_count": 33,
   "metadata": {
    "scrolled": true
   },
   "outputs": [
    {
     "data": {
      "text/plain": [
       "7"
      ]
     },
     "execution_count": 33,
     "metadata": {},
     "output_type": "execute_result"
    }
   ],
   "source": [
    "q1.dequeue()"
   ]
  },
  {
   "cell_type": "code",
   "execution_count": 34,
   "metadata": {},
   "outputs": [
    {
     "data": {
      "text/plain": [
       "Queue([])"
      ]
     },
     "execution_count": 34,
     "metadata": {},
     "output_type": "execute_result"
    }
   ],
   "source": [
    "q1"
   ]
  },
  {
   "cell_type": "code",
   "execution_count": 35,
   "metadata": {},
   "outputs": [
    {
     "ename": "IndexError",
     "evalue": "pop from an empty deque",
     "output_type": "error",
     "traceback": [
      "\u001b[1;31m---------------------------------------------------------------------------\u001b[0m",
      "\u001b[1;31mIndexError\u001b[0m                                Traceback (most recent call last)",
      "Input \u001b[1;32mIn [35]\u001b[0m, in \u001b[0;36m<cell line: 1>\u001b[1;34m()\u001b[0m\n\u001b[1;32m----> 1\u001b[0m \u001b[43mq1\u001b[49m\u001b[38;5;241;43m.\u001b[39;49m\u001b[43mdequeue\u001b[49m\u001b[43m(\u001b[49m\u001b[43m)\u001b[49m\n",
      "Input \u001b[1;32mIn [20]\u001b[0m, in \u001b[0;36mQueue.dequeue\u001b[1;34m(self)\u001b[0m\n\u001b[0;32m      5\u001b[0m \u001b[38;5;28;01mdef\u001b[39;00m \u001b[38;5;21mdequeue\u001b[39m(\u001b[38;5;28mself\u001b[39m):\n\u001b[1;32m----> 6\u001b[0m     \u001b[38;5;28;01mreturn\u001b[39;00m \u001b[38;5;28;43mself\u001b[39;49m\u001b[38;5;241;43m.\u001b[39;49m\u001b[43mpopleft\u001b[49m\u001b[43m(\u001b[49m\u001b[43m)\u001b[49m\n",
      "\u001b[1;31mIndexError\u001b[0m: pop from an empty deque"
     ]
    }
   ],
   "source": [
    "q1.dequeue()"
   ]
  },
  {
   "cell_type": "markdown",
   "metadata": {},
   "source": [
    "Дополнительные операции для работы с очередью:\n",
    "\n",
    "* __Q.ﬁrst()__: возвращает первый элемент очереди Q, не удаляя его. Если очередь пуста, то возникает ошибка.\n",
    "* __Q.is_empty()__: возвращает True, если очередь Q не содержит ни одного элемента.\n",
    "* __len(Q)__: возвращает количество элементов в очереди Q.\n",
    "\n",
    "<br>\n",
    "\n",
    "Реализация очереди на базе массива: позволяем началу очереди смещаться относительно начала массива:\n",
    "<img src=\"../Img/lec04_22.png\" style=\"width:40%\">"
   ]
  },
  {
   "cell_type": "markdown",
   "metadata": {},
   "source": [
    "<a id=5></a>\n",
    "[<=](#4) || [Оглавление](#Ref)|| [=>](#6)\n",
    "\n",
    "## 5. Алгоритмы\n",
    "\n",
    "<h3> 5.1. Алгоритм сортировки </h3>"
   ]
  },
  {
   "cell_type": "code",
   "execution_count": null,
   "metadata": {},
   "outputs": [],
   "source": [
    "\"\"\"\n",
    "Сортировка пузырьком\n",
    "\"\"\"\n",
    "a=[3,2,5,19,6,11,44,61,2,15,24]\n",
    "\n",
    "for i in range(len(a)-1):\n",
    "    for j in range(len(a)-1):\n",
    "        if a[j]>a[j+1]:\n",
    "            a[j],a[j+1]=a[j+1],a[j]\n",
    "print(a)"
   ]
  },
  {
   "cell_type": "markdown",
   "metadata": {},
   "source": [
    "<h3>5.2.1. Алгоритмы поиска</h3>"
   ]
  },
  {
   "cell_type": "code",
   "execution_count": 2,
   "metadata": {},
   "outputs": [
    {
     "data": {
      "text/plain": [
       "False"
      ]
     },
     "execution_count": 2,
     "metadata": {},
     "output_type": "execute_result"
    }
   ],
   "source": [
    "# Проверка вхождения в список:\n",
    "23 in [54, 26, 93, 17, 77, 31, 44, 55, 20, 65]"
   ]
  },
  {
   "cell_type": "code",
   "execution_count": 3,
   "metadata": {},
   "outputs": [
    {
     "data": {
      "text/plain": [
       "True"
      ]
     },
     "execution_count": 3,
     "metadata": {},
     "output_type": "execute_result"
    }
   ],
   "source": [
    "17 in [54, 26, 93, 17, 77, 31, 44, 55, 20, 65]"
   ]
  },
  {
   "cell_type": "markdown",
   "metadata": {},
   "source": [
    "Пример проведения поиска в списке целых чисел:"
   ]
  },
  {
   "cell_type": "code",
   "execution_count": 6,
   "metadata": {},
   "outputs": [],
   "source": [
    "def sequential_search(a_list, item):\n",
    "    for current_item in a_list:\n",
    "        if current_item == item:\n",
    "            return True\n",
    "    else:\n",
    "        return False"
   ]
  },
  {
   "cell_type": "code",
   "execution_count": 8,
   "metadata": {},
   "outputs": [],
   "source": [
    "test_list = [54, 26, 93, 17, 77, 31, 44, 55, 20, 65]"
   ]
  },
  {
   "cell_type": "code",
   "execution_count": 11,
   "metadata": {},
   "outputs": [
    {
     "data": {
      "text/plain": [
       "False"
      ]
     },
     "execution_count": 11,
     "metadata": {},
     "output_type": "execute_result"
    }
   ],
   "source": [
    "sequential_search(test_list, 15)"
   ]
  },
  {
   "cell_type": "markdown",
   "metadata": {},
   "source": [
    "Поиск с помощью цикла *while*"
   ]
  },
  {
   "cell_type": "code",
   "execution_count": 12,
   "metadata": {},
   "outputs": [],
   "source": [
    "def sequential_search_2(a_list, item):\n",
    "    pos = 0\n",
    "    while pos < len(a_list):\n",
    "        if a_list[pos] == item:\n",
    "            return True\n",
    "        else:\n",
    "            pos += 1\n",
    "    return False"
   ]
  },
  {
   "cell_type": "code",
   "execution_count": 13,
   "metadata": {},
   "outputs": [
    {
     "name": "stdout",
     "output_type": "stream",
     "text": [
      "False\n",
      "True\n"
     ]
    }
   ],
   "source": [
    "print(sequential_search_2(test_list, 3))\n",
    "print(sequential_search_2(test_list, 17))"
   ]
  },
  {
   "cell_type": "markdown",
   "metadata": {},
   "source": [
    "Поиск в отсортированном списке"
   ]
  },
  {
   "cell_type": "code",
   "execution_count": 14,
   "metadata": {},
   "outputs": [],
   "source": [
    "def ordered_sequential_search(a_list, item):\n",
    "    for current_item in a_list:\n",
    "        if current_item >= item:            \n",
    "            if current_item == item:\n",
    "                return True\n",
    "            else:\n",
    "                return False\n",
    "    else:\n",
    "        return False"
   ]
  },
  {
   "cell_type": "code",
   "execution_count": 15,
   "metadata": {},
   "outputs": [
    {
     "data": {
      "text/plain": [
       "[17, 20, 26, 31, 44, 54, 55, 65, 77, 93]"
      ]
     },
     "execution_count": 15,
     "metadata": {},
     "output_type": "execute_result"
    }
   ],
   "source": [
    "ordered_test_list = sorted(test_list) \n",
    "ordered_test_list"
   ]
  },
  {
   "cell_type": "code",
   "execution_count": 16,
   "metadata": {},
   "outputs": [
    {
     "name": "stdout",
     "output_type": "stream",
     "text": [
      "False\n",
      "True\n"
     ]
    }
   ],
   "source": [
    "print(ordered_sequential_search(ordered_test_list, 53))\n",
    "print(ordered_sequential_search(ordered_test_list, 54))"
   ]
  },
  {
   "cell_type": "markdown",
   "metadata": {},
   "source": [
    "<h3>5.2.2. Алгоритмы поиска в глубину</h3>\n",
    "\n",
    "Задача. Найти остовное дерево графа G. Остовное дерево включает в себя все $n$ вершин исходного графа и содержит $n-1$ ребро.\n",
    "\n",
    "<img src=\"../Img/lec04_23.png\" style=\"width:25%\">"
   ]
  },
  {
   "cell_type": "code",
   "execution_count": 1,
   "metadata": {},
   "outputs": [],
   "source": [
    "# Список смежности графа\n",
    "\n",
    "adj_list = {\n",
    "    1:[2,3,4],\n",
    "    2:[1,3,4],\n",
    "    3:[1,2],\n",
    "    4:[1,2]\n",
    "}"
   ]
  },
  {
   "cell_type": "code",
   "execution_count": 2,
   "metadata": {},
   "outputs": [
    {
     "data": {
      "text/plain": [
       "4"
      ]
     },
     "execution_count": 2,
     "metadata": {},
     "output_type": "execute_result"
    }
   ],
   "source": [
    "# Всего вершин в графе\n",
    "len(adj_list)"
   ]
  },
  {
   "cell_type": "code",
   "execution_count": 3,
   "metadata": {},
   "outputs": [],
   "source": [
    "def FindTree(adj_list, start, tree=[]):\n",
    "    #pdb.set_trace()\n",
    "    if len(tree) == len(adj_list)-1:\n",
    "        return tree\n",
    "    for y in adj_list[start]:\n",
    "        if y not in ( {k[0] for k in tree}.union({k[1] for k in tree}) ):\n",
    "            tree.extend([(start, y)])\n",
    "            newtree = FindTree(adj_list, y, tree)\n",
    "            if newtree:\n",
    "                return newtree"
   ]
  },
  {
   "cell_type": "code",
   "execution_count": 4,
   "metadata": {},
   "outputs": [
    {
     "name": "stdout",
     "output_type": "stream",
     "text": [
      "[(1, 2), (2, 3), (2, 4)]\n"
     ]
    }
   ],
   "source": [
    "tree = FindTree(adj_list, 1)\n",
    "print(tree)"
   ]
  },
  {
   "cell_type": "markdown",
   "metadata": {},
   "source": [
    "<img src=\"../Img/lec04_24.png\" style=\"width:25%\">"
   ]
  },
  {
   "cell_type": "markdown",
   "metadata": {},
   "source": [
    "## Итоги\n",
    "\n",
    "<img src=\"../Img/summary.jpg\">\n",
    "\n",
    "На этой лекции мы узнале о таких структурах данных, как список и массив, а также изучили подходы к оценке сложности алгоритмов."
   ]
  }
 ],
 "metadata": {
  "kernelspec": {
   "display_name": "Python 3 (ipykernel)",
   "language": "python",
   "name": "python3"
  },
  "language_info": {
   "codemirror_mode": {
    "name": "ipython",
    "version": 3
   },
   "file_extension": ".py",
   "mimetype": "text/x-python",
   "name": "python",
   "nbconvert_exporter": "python",
   "pygments_lexer": "ipython3",
   "version": "3.9.12"
  }
 },
 "nbformat": 4,
 "nbformat_minor": 4
}
