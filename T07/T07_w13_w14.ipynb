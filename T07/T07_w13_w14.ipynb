{
 "cells": [
  {
   "cell_type": "markdown",
   "metadata": {
    "id": "2Yn_cT5q5eWw"
   },
   "source": [
    "<img src=\"../Img/banner-fa-49-2.png\">\n",
    "\n",
    "29 ноября 2022 года, вторник<br>\n",
    "Семинары: <br>\n",
    "15.40-17.10, 5-я пара;<br>\n",
    "17.20-18.50, 6-я пара<br>\n",
    "ВМ_стр1/ауд.201-1(кк) (ул. Верхняя Масловка, д. 15, стр. 1)<br>\n",
    "УЦИ21-1\n",
    "\n",
    "3 декабря 2022 года, суббота<br>\n",
    "Семинары:<br>\n",
    "14.00-15.30, 4-я пара;<br>\n",
    "15.40-17.10, 5-я пара<br>\n",
    "ВМ_стр1/ауд.207-1(кк) (ул. Верхняя Масловка, д. 15, стр. 1)<br>\n",
    "УЦИ-21-2\n",
    "\n",
    "Преподаватель: Смирнов Михаил Викторович,<br>\n",
    "доцент Департамента Анализа данных и машинного обучения<br>\n",
    "Финансового университета при Правительстве Российской Федерации\n",
    "\n",
    "# Библиотека Pandas"
   ]
  },
  {
   "cell_type": "code",
   "execution_count": 1,
   "metadata": {
    "id": "O3_eV5N1mBsX"
   },
   "outputs": [],
   "source": [
    "import pandas as pd"
   ]
  },
  {
   "cell_type": "markdown",
   "metadata": {},
   "source": [
    "# Раздел 1. Создание таблиц из коллекций"
   ]
  },
  {
   "cell_type": "markdown",
   "metadata": {
    "id": "5lpvxhPt14Rz"
   },
   "source": [
    "<p style=\"font-size:125%; color:#119988; background-color:#EEE\">Задание 1.1</p>\n",
    "\n",
    "Имеется *серия*, содержащая числа от 10 до 1000. Какое число содержит элемент с индексом 175? Вычислите разность элементов с индексами 900 и 16."
   ]
  },
  {
   "cell_type": "code",
   "execution_count": 4,
   "metadata": {
    "id": "dwKG6XBG2aGI"
   },
   "outputs": [],
   "source": [
    "# 1.1. Ваш код здесь\n",
    "s = pd.Series(range(10,1001))\n",
    "\n"
   ]
  },
  {
   "cell_type": "markdown",
   "metadata": {
    "id": "KxLDOxlXHcnw"
   },
   "source": [
    "<p style=\"font-size:125%; color:#119988; background-color:#EEE\">Задание 1.2</p>\n",
    "\n",
    "Мебельная фабрика выпускает продукцию  наименований: диваны, кровати, трюмо. Создайте таблицу *DatаFrame*, содержащую: количество призведенной продукции каждого наименования, остаток на складе фабрики. Наименования разместите в строках, а количество и остаток в столбцах."
   ]
  },
  {
   "cell_type": "code",
   "execution_count": 4,
   "metadata": {
    "id": "dwKG6XBG2aGI"
   },
   "outputs": [],
   "source": [
    "# 1.2. Ваш код здесь\n",
    "\n"
   ]
  },
  {
   "cell_type": "markdown",
   "metadata": {
    "id": "4-VMbARUiXxB"
   },
   "source": [
    "<p style=\"font-size:125%; color:#119988; background-color:#EEE\">Задание 1.3</p>\n",
    "\n",
    "Разделите столбец **car** таблицы **market** на два столбца: **mark** (марка) и **model** (модель).\n",
    "\n",
    "```\n",
    "market = pd.DataFrame({'car':['Lada Granta','Lada Vesta','Kia Rio','Hyunday Creta'], \n",
    "                       'year':[2019,2018,2010,2015], \n",
    "                       'condition':[75,104,20,90], 'km':[130000,210000,75000,94000]})\n",
    "```"
   ]
  },
  {
   "cell_type": "code",
   "execution_count": 16,
   "metadata": {},
   "outputs": [],
   "source": [
    "# 1.3. Ваш код здесь\n",
    "\n"
   ]
  },
  {
   "cell_type": "markdown",
   "metadata": {},
   "source": [
    "<p style=\"font-size:125%; color:#119988; background-color:#EEE\">Задание 1.4</p>\n",
    "\n",
    "Имеются исторические данные о цене акции в виде таблицы DataFrame.\n",
    "\n",
    "```\n",
    "history=pd.DataFrame([[150,20,140,140],[140,31,152,150],\n",
    "                     [147,17,180,164],[129,33,150,167]],\n",
    "                     columns=['Open','Low','High','Close'],\n",
    "                     index=['2020-12-07','2020-12-08','2020-12-09','2020-12-10'])\n",
    "```\n",
    "Найдите минимальную и максимальную цены закрытия, стандартное отклонение цены открытия, среднее значение самой низкой (Low) цены и медиану самой высокой (High) цены."
   ]
  },
  {
   "cell_type": "code",
   "execution_count": 13,
   "metadata": {},
   "outputs": [],
   "source": [
    "# 1.4. Ваш код здесь\n",
    "\n"
   ]
  },
  {
   "cell_type": "markdown",
   "metadata": {},
   "source": [
    "# Раздел 2. Извлечение данных по условию\n",
    "\n",
    "### Работа с набором данных *Financial Sample*"
   ]
  },
  {
   "cell_type": "code",
   "execution_count": 2,
   "metadata": {},
   "outputs": [
    {
     "data": {
      "text/html": [
       "<div>\n",
       "<style scoped>\n",
       "    .dataframe tbody tr th:only-of-type {\n",
       "        vertical-align: middle;\n",
       "    }\n",
       "\n",
       "    .dataframe tbody tr th {\n",
       "        vertical-align: top;\n",
       "    }\n",
       "\n",
       "    .dataframe thead th {\n",
       "        text-align: right;\n",
       "    }\n",
       "</style>\n",
       "<table border=\"1\" class=\"dataframe\">\n",
       "  <thead>\n",
       "    <tr style=\"text-align: right;\">\n",
       "      <th></th>\n",
       "      <th>Name</th>\n",
       "      <th>Meaning</th>\n",
       "    </tr>\n",
       "  </thead>\n",
       "  <tbody>\n",
       "    <tr>\n",
       "      <th>0</th>\n",
       "      <td>Segment</td>\n",
       "      <td>Сегмент рынка</td>\n",
       "    </tr>\n",
       "    <tr>\n",
       "      <th>1</th>\n",
       "      <td>Country</td>\n",
       "      <td>Страна</td>\n",
       "    </tr>\n",
       "    <tr>\n",
       "      <th>2</th>\n",
       "      <td>Product</td>\n",
       "      <td>Сделано в</td>\n",
       "    </tr>\n",
       "    <tr>\n",
       "      <th>3</th>\n",
       "      <td>DiscountBand</td>\n",
       "      <td>Группа скидок</td>\n",
       "    </tr>\n",
       "    <tr>\n",
       "      <th>4</th>\n",
       "      <td>UnitsSold</td>\n",
       "      <td>Продано штук</td>\n",
       "    </tr>\n",
       "    <tr>\n",
       "      <th>5</th>\n",
       "      <td>ManufacturingPrice</td>\n",
       "      <td>Цена производства</td>\n",
       "    </tr>\n",
       "    <tr>\n",
       "      <th>6</th>\n",
       "      <td>SalePrice</td>\n",
       "      <td>Цена единицы товара</td>\n",
       "    </tr>\n",
       "    <tr>\n",
       "      <th>7</th>\n",
       "      <td>GrossSales</td>\n",
       "      <td>Валовая продажа</td>\n",
       "    </tr>\n",
       "    <tr>\n",
       "      <th>8</th>\n",
       "      <td>Discounts</td>\n",
       "      <td>Скидка</td>\n",
       "    </tr>\n",
       "    <tr>\n",
       "      <th>9</th>\n",
       "      <td>Sales</td>\n",
       "      <td>Стоимость партии товара</td>\n",
       "    </tr>\n",
       "    <tr>\n",
       "      <th>10</th>\n",
       "      <td>COGS</td>\n",
       "      <td>Себестоимость проданных товаров</td>\n",
       "    </tr>\n",
       "    <tr>\n",
       "      <th>11</th>\n",
       "      <td>Profit</td>\n",
       "      <td>Прибыль</td>\n",
       "    </tr>\n",
       "    <tr>\n",
       "      <th>12</th>\n",
       "      <td>Date</td>\n",
       "      <td>Дата</td>\n",
       "    </tr>\n",
       "    <tr>\n",
       "      <th>13</th>\n",
       "      <td>MonthNumber</td>\n",
       "      <td>Месяц номер</td>\n",
       "    </tr>\n",
       "    <tr>\n",
       "      <th>14</th>\n",
       "      <td>MonthName</td>\n",
       "      <td>Месяц</td>\n",
       "    </tr>\n",
       "    <tr>\n",
       "      <th>15</th>\n",
       "      <td>Year</td>\n",
       "      <td>Год</td>\n",
       "    </tr>\n",
       "  </tbody>\n",
       "</table>\n",
       "</div>"
      ],
      "text/plain": [
       "                  Name                          Meaning\n",
       "0              Segment                    Сегмент рынка\n",
       "1              Country                           Страна\n",
       "2              Product                        Сделано в\n",
       "3         DiscountBand                    Группа скидок\n",
       "4            UnitsSold                     Продано штук\n",
       "5   ManufacturingPrice                Цена производства\n",
       "6            SalePrice              Цена единицы товара\n",
       "7           GrossSales                  Валовая продажа\n",
       "8            Discounts                           Скидка\n",
       "9                Sales          Стоимость партии товара\n",
       "10                COGS  Себестоимость проданных товаров\n",
       "11              Profit                          Прибыль\n",
       "12                Date                             Дата\n",
       "13         MonthNumber                      Месяц номер\n",
       "14           MonthName                            Месяц\n",
       "15                Year                              Год"
      ]
     },
     "execution_count": 2,
     "metadata": {},
     "output_type": "execute_result"
    }
   ],
   "source": [
    "with open('../Data/FinancialSampleFields.csv', encoding='utf-8') as f:\n",
    "  content = f.readlines()\n",
    "  content = [x.replace('\\n','').split(';') for x in content]\n",
    "\n",
    "pd.DataFrame(content[1:],columns = content[0])"
   ]
  },
  {
   "cell_type": "markdown",
   "metadata": {
    "id": "O19QRQijxc8j"
   },
   "source": [
    "### Извлечение данных по условию\n",
    "\n",
    "Использование условий позволяет выбирать только отвечающие условиям данные.\n",
    "\n",
    "Примеры:\n",
    "\n",
    "`fs[fs['SalePrice']>90] # отобрать результаты, для которых цена продажи больше 90`\n",
    "\n",
    "В результате операции сравнения в квадратных скобках создается список из *True* и *False*, который показывает, какие строки *DataFrame* нужно оставить, а какие убрать.\n",
    "\n",
    "`fs[fs['Discounts']>fs['Discounts'].mean()] # результаты, для которых сумма скидок превышает среднюю сумму скидок`\n",
    "\n",
    "Условия можно комбинировать, используя операторы **&** (логическое И) и | (логическое ИЛИ).\n",
    "\n",
    "`fs[(fs['Discounts']>fs['Discounts'].mean()) & (fs['UnitsSold']<fs['UnitsSold'].mean())].sort_values('Country') # сумма скидок выше среднего, продано товара ниже среднего по выборке`\n",
    "\n",
    "`fs[fs['Segment']=='Enterprise']['COGS'].mean() # найти среднюю себестоимость товаров промышленного (Enterprise) сегмента`\n",
    "\n",
    "Проверьте приведенные примеры в своих ноутбуках."
   ]
  },
  {
   "cell_type": "markdown",
   "metadata": {},
   "source": [
    "<p style=\"font-size:125%; color:#119988; background-color:#EEE\">Задание 2.1</p>\n",
    "\n",
    "Загрузите этот набор данных в таблицу *DataFrame*. Какова сумма валовых продаж (GrossSales) товаров, произведеных *Amarilla* для малого бизнеса?"
   ]
  },
  {
   "cell_type": "code",
   "execution_count": null,
   "metadata": {},
   "outputs": [],
   "source": [
    "# 2.1. Ваш код здесь\n",
    "\n"
   ]
  },
  {
   "cell_type": "markdown",
   "metadata": {},
   "source": [
    "<p style=\"font-size:125%; color:#119988; background-color:#EEE\">Задание 2.2</p>\n",
    "\n",
    "Определите среднюю стоимость производства (ManufacturingPrice) товаров, выпущенных для Мексики стоимостью (SalePrice) выше, чем стоимость 70% товаров."
   ]
  },
  {
   "cell_type": "code",
   "execution_count": null,
   "metadata": {},
   "outputs": [],
   "source": [
    "# 2.2. Ваш код здесь\n",
    "\n"
   ]
  },
  {
   "cell_type": "markdown",
   "metadata": {},
   "source": [
    "<p style=\"font-size:125%; color:#119988; background-color:#EEE\">Задание 2.3</p>\n",
    "\n",
    "Найдите минимальную цену производства товара правительственого сегмента, для которого цена продажи ниже цены производства."
   ]
  },
  {
   "cell_type": "code",
   "execution_count": null,
   "metadata": {},
   "outputs": [],
   "source": [
    "# 2.3. Ваш код здесь\n",
    "\n"
   ]
  },
  {
   "cell_type": "markdown",
   "metadata": {},
   "source": [
    "<p style=\"font-size:125%; color:#119988; background-color:#EEE\">Задание 2.4</p>\n",
    "\n",
    "Какова средняя цена товара, стоимость производства которого ниже средней?"
   ]
  },
  {
   "cell_type": "code",
   "execution_count": null,
   "metadata": {},
   "outputs": [],
   "source": [
    "# 2.4. Ваш код здесь\n",
    "\n"
   ]
  },
  {
   "cell_type": "markdown",
   "metadata": {},
   "source": [
    "<p style=\"font-size:125%; color:#119988; background-color:#EEE\">Задание 2.5</p>\n",
    "\n",
    "Во сколько раз средняя себестоимость (COGS) товаров промышленного сегмента (Enterprize) отличается от средней себестоимости товаров малого бизнеса?"
   ]
  },
  {
   "cell_type": "code",
   "execution_count": 3,
   "metadata": {},
   "outputs": [],
   "source": [
    "# 2.5. Ваш код здесь\n",
    "\n"
   ]
  },
  {
   "cell_type": "markdown",
   "metadata": {},
   "source": [
    "<p style=\"font-size:125%; color:#119988; background-color:#EEE\">Задание 2.6</p>\n",
    "\n",
    "Какова суммарная прибыль всех сделок в правительственном сегменте, заключенных компаниями Carretera и Paseo?"
   ]
  },
  {
   "cell_type": "code",
   "execution_count": 4,
   "metadata": {},
   "outputs": [],
   "source": [
    "# 2.6. Ваш код здесь\n",
    "\n"
   ]
  },
  {
   "cell_type": "markdown",
   "metadata": {
    "id": "mLSdzFG55hyA"
   },
   "source": [
    "## Раздел 3. Группировка данных\n",
    "\n"
   ]
  },
  {
   "cell_type": "markdown",
   "metadata": {},
   "source": [
    "<p style=\"font-size:125%; color:#119988; background-color:#EEE\">Задание 3.1</p>\n",
    "\n",
    "Сколько разных систем скидок представлено в таблице?"
   ]
  },
  {
   "cell_type": "code",
   "execution_count": 5,
   "metadata": {},
   "outputs": [],
   "source": [
    "# 3.1. Ваш код здесь\n",
    "\n"
   ]
  },
  {
   "cell_type": "markdown",
   "metadata": {},
   "source": [
    "<p style=\"font-size:125%; color:#119988; background-color:#EEE\">Задание 3.2</p>\n",
    "\n",
    "Какая из систем скидок применяется реже всего?"
   ]
  },
  {
   "cell_type": "code",
   "execution_count": 5,
   "metadata": {},
   "outputs": [],
   "source": [
    "# 3.2. Ваш код здесь\n",
    "\n"
   ]
  },
  {
   "cell_type": "markdown",
   "metadata": {},
   "source": [
    "<p style=\"font-size:125%; color:#119988; background-color:#EEE\">Задание 3.3</p>\n",
    "\n",
    "Сколько раз представлены в выборке разные страны?"
   ]
  },
  {
   "cell_type": "code",
   "execution_count": 6,
   "metadata": {},
   "outputs": [],
   "source": [
    "# 3.3. Ваш код здесь\n",
    "\n"
   ]
  },
  {
   "cell_type": "markdown",
   "metadata": {},
   "source": [
    "<p style=\"font-size:125%; color:#119988; background-color:#EEE\">Задание 3.4</p>\n",
    "\n",
    "Разбейте значения столбца себестоимости (COGS) для Канады на шесть интервалов."
   ]
  },
  {
   "cell_type": "code",
   "execution_count": 7,
   "metadata": {},
   "outputs": [],
   "source": [
    "# 3.4. Ваш код здесь\n",
    "\n"
   ]
  },
  {
   "cell_type": "markdown",
   "metadata": {},
   "source": [
    "<p style=\"font-size:125%; color:#119988; background-color:#EEE\">Задание 3.5</p>\n",
    "\n",
    "Разбейте значения столбца себестоимости (COGS) для Канады на шесть интервалов."
   ]
  },
  {
   "cell_type": "code",
   "execution_count": 8,
   "metadata": {},
   "outputs": [],
   "source": [
    "# 3.5. Ваш код здесь\n",
    "\n"
   ]
  }
 ],
 "metadata": {
  "colab": {
   "collapsed_sections": [],
   "name": "Тема 8 ГК (запросы) Лекция",
   "provenance": []
  },
  "kernelspec": {
   "display_name": "Python 3 (ipykernel)",
   "language": "python",
   "name": "python3"
  },
  "language_info": {
   "codemirror_mode": {
    "name": "ipython",
    "version": 3
   },
   "file_extension": ".py",
   "mimetype": "text/x-python",
   "name": "python",
   "nbconvert_exporter": "python",
   "pygments_lexer": "ipython3",
   "version": "3.9.12"
  }
 },
 "nbformat": 4,
 "nbformat_minor": 4
}
