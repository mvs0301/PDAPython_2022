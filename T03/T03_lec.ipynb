{
 "cells": [
  {
   "cell_type": "markdown",
   "metadata": {},
   "source": [
    "<img src=\"../Img/banner-fa-49-2.png\">\n",
    "\n",
    "3 октября 2022 года, ВМ/462, ул. Верхняя Масловка, д. 15<br>\n",
    "14:00 - 15:30, 4-я пара<br>\n",
    "\n",
    "Студенты: Поток УЦИ21-1, УЦИ-21-2<br>\n",
    "\n",
    "Преподаватель: Смирнов Михаил Викторович,<br>\n",
    "доцент Департамента Анализа данных и машинного обучения<br>\n",
    "Финансового университета при Правительстве Российской Федерации\n",
    "\n",
    "<p style=\"font-size:150%\">Лекция</p>\n",
    "\n",
    "# Тема 3. Пользовательские функции, модули и пакеты"
   ]
  },
  {
   "cell_type": "markdown",
   "metadata": {},
   "source": [
    "<a id=Ref></a>\n",
    "# Оглавление\n",
    "\n",
    "[1.Функциональный подход к программированию](#1)<br>\n",
    "[2.Функция как объект](#2)<br>\n",
    "[3.Функция map()](#3)<br>\n",
    "[4.Лямбда-функция](#4)<br>"
   ]
  },
  {
   "cell_type": "markdown",
   "metadata": {},
   "source": [
    "<a id=1></a>\n",
    "[Оглавление](#Ref)|| [=>](#2)\n",
    "# 1. Функциональный подход к программированию\n",
    "\n",
    "## 1.1. Зачем нужны функции\n",
    "\n",
    "Код программы становится сложным, запутанным по мере его увеличения. Функции нужны для организации кода, повышения степени \"читаемости\" кода. Код программы с функциями проще изменять, совершенствовать.\n",
    "\n",
    "В этом разделе узнаем:\n",
    "- как создавать функции\n",
    "- как эффективно применять их\n",
    "- как избежать распространенных ошибок\n",
    "\n",
    "## 1.2. Определение функции\n",
    "\n",
    "Ранее мы уже использовали встроенные функции, такие, как *len(), reversed()* или *round()*."
   ]
  },
  {
   "cell_type": "code",
   "execution_count": 4,
   "metadata": {},
   "outputs": [
    {
     "name": "stdout",
     "output_type": "stream",
     "text": [
      "3\n",
      "['c', 'b', 'a']\n",
      "2.3333\n"
     ]
    }
   ],
   "source": [
    "print(len(['a','b','c']))\n",
    "\n",
    "print(list(reversed('abc')))\n",
    "\n",
    "print(round(7/3,4))"
   ]
  },
  {
   "cell_type": "markdown",
   "metadata": {},
   "source": [
    "Такие функции можно рассматривать, как черный ящик, в который мы передаём какие-то значения и получаем ответ. Хорошая новость в том, что мы сами можем писать функции.\n",
    "\n",
    "<u>Пример</u>. Создадим функцию, выполняющую сложение единицы и двойки."
   ]
  },
  {
   "cell_type": "code",
   "execution_count": 5,
   "metadata": {},
   "outputs": [],
   "source": [
    "def summa_1_2():\n",
    "    return 1+2"
   ]
  },
  {
   "cell_type": "code",
   "execution_count": 6,
   "metadata": {},
   "outputs": [
    {
     "name": "stdout",
     "output_type": "stream",
     "text": [
      "3\n"
     ]
    }
   ],
   "source": [
    "# Вызов функции\n",
    "print(summa_1_2())"
   ]
  },
  {
   "cell_type": "markdown",
   "metadata": {},
   "source": [
    "В рассмотренной функции не использовались аргументы. Теперь создадим функцию с аргументом - числом, которое функция будет возводить в квадрат."
   ]
  },
  {
   "cell_type": "code",
   "execution_count": 7,
   "metadata": {},
   "outputs": [],
   "source": [
    "def square(num):\n",
    "    return num**2"
   ]
  },
  {
   "cell_type": "code",
   "execution_count": 8,
   "metadata": {},
   "outputs": [
    {
     "data": {
      "text/plain": [
       "25"
      ]
     },
     "execution_count": 8,
     "metadata": {},
     "output_type": "execute_result"
    }
   ],
   "source": [
    "# Вызов функции\n",
    "square(5)"
   ]
  },
  {
   "cell_type": "markdown",
   "metadata": {},
   "source": [
    "<u>Еще пример</u>. Пусть в магазине \"Все по 60\" яблоки стоят 30. Напишем функцию цены товара."
   ]
  },
  {
   "cell_type": "code",
   "execution_count": 10,
   "metadata": {},
   "outputs": [],
   "source": [
    "def price(product):\n",
    "    p = 30 if product=='apples' else 60\n",
    "    return p"
   ]
  },
  {
   "cell_type": "code",
   "execution_count": 11,
   "metadata": {},
   "outputs": [
    {
     "name": "stdout",
     "output_type": "stream",
     "text": [
      "30\n",
      "60\n",
      "60\n"
     ]
    }
   ],
   "source": [
    "# Вызов функции\n",
    "for item in ['apples','grape','oranges']:\n",
    "    print(price(item))"
   ]
  },
  {
   "cell_type": "code",
   "execution_count": null,
   "metadata": {},
   "outputs": [],
   "source": [
    "1.3. "
   ]
  },
  {
   "cell_type": "markdown",
   "metadata": {},
   "source": [
    "Обобщим полученные знания. Вот из чего состоит функция.\n",
    "\n",
    "- Кючевое слово ***def***, которым мы объявляем намерение создать функцию.\n",
    "- Название функции, оно может состоять из латинских букв, цифр и символов подчеркивания. После названия обязательно присутствовуют скобки, даже если в них ничего нет.\n",
    "- Аргументы - это значения в скобках, которые мы передаём в функцию.\n",
    "- Двоеточие и перенос на следующую строку с отступом.\n",
    "- Тело функции, в котором происходят вычисления.\n",
    "- Возврат результатов с помощью ключевого слова *return*.\n",
    "\n",
    "## 1.3. Сложные функции\n",
    "\n",
    "В примерах выше функции выполняют самые простые операции - арифметические операции или выбор элемента коллекции. Но функция может выполнять и более сложные действия: читать данные из файла или записывать данные в файл, обрабатывать данные в матрицах, вызывать другие функции.\n",
    "\n",
    "Например, мы можем написать функцию, кторая рассчитывает медиану ряда чисел. Медиана - это число, которое делит рандированные данные на две равные части так, что половина ранжированных данных меньше этого числа, а другая половина - больше. Медиана - не то же самое, что среднее арифметическое. Например, если вес студентов 56, 60, 61, 69, 71 кг, то медианой будет 61. В случае, если число исследуемых объектов четное, то медианой является среднее значение между значениями двух объектов посередине."
   ]
  },
  {
   "cell_type": "markdown",
   "metadata": {},
   "source": [
    "<img src=../Img/pencil.png>\n",
    "<p style=\"background-color:powderblue; font-size:125%; color: rebeccapurple;\">Выполните задания</p>\n",
    "\n",
    "1. Напишите функцию, которая складывает два числа.\n",
    "2. Напишите функцию, которая первый аргумент возводит в степень второго аргумента.\n",
    "3. Напишите функцию, которая получает два числа и один из операторов `'+', '-', '*', '/'`. Функция реализует операции сложения, вычитания, умножения и деления двух чисел.\n",
    "4. Усовершенствуйте функцию `price()` так, чтобы она подсчитывала стоимость товара с учётом его количества.\n",
    "5. Напишите функцию `calc_median()`, которая принимает на вход список числел и возвращает его медиану. `calc_median([5,2,1,3,4])` возвращает $3$, `calc_median([3,3,7,9])` возвращает $5$.\n",
    "\n",
    "<a id=Lst></a>\n",
    "[ <= ](#1)|| [Оглавление](#Ref) ||[ => ](#2)"
   ]
  },
  {
   "cell_type": "markdown",
   "metadata": {},
   "source": [
    "## 1.4. Функциональный подход организации кода программы\n",
    "\n",
    "Допустим, мы знаем цены в рублях на товары и хотим перевести эти цены в валдюты другой страны."
   ]
  },
  {
   "cell_type": "code",
   "execution_count": 14,
   "metadata": {},
   "outputs": [
    {
     "name": "stdout",
     "output_type": "stream",
     "text": [
      "[7.2727, 3.6364, 2.7273]\n"
     ]
    }
   ],
   "source": [
    "goods_price=[{'goods':'штаны','price':400},{'goods':'рубашка','price':200},{'goods':'кепка','price':150}]\n",
    "course=55\n",
    "\n",
    "goods_currency=[]\n",
    "for item in goods_price:\n",
    "    converted=round(item['price']/course,4)\n",
    "    goods_currency.append(converted)\n",
    "\n",
    "print(goods_currency)"
   ]
  },
  {
   "cell_type": "markdown",
   "metadata": {},
   "source": [
    "Пока всё хорошо. Предположим, что появились новые товары и изменился курс, тогда код придется переписать.\n",
    "\n",
    "```\n",
    "goods_price=[{'goods':'велосипед','price':1500},{'goods':'самокат','price':1450},\n",
    "             {'goods':'мотороллер','price':19200}]\n",
    "course=75\n",
    "\n",
    "goods_currency=[]\n",
    "\n",
    "for item in goods_price:\n",
    "    converted=round(item['price']/course,4)\n",
    "    goods_currency.append(converted)\n",
    "\n",
    "print(goods_currency)\n",
    "\n",
    ">> [21.2, 19.3333, 256.0]\n",
    "```"
   ]
  },
  {
   "cell_type": "markdown",
   "metadata": {},
   "source": [
    "Программа становится запутанной. В таком случае напишем функцию."
   ]
  },
  {
   "cell_type": "code",
   "execution_count": 21,
   "metadata": {},
   "outputs": [],
   "source": [
    "def to_currency(prices_data,currency_rate):\n",
    "    goods_currency=[]\n",
    "    for item in prices_data:\n",
    "        converted=round(item['price']/currency_rate,4)\n",
    "        goods_currency.append(converted)\n",
    "    return goods_currency"
   ]
  },
  {
   "cell_type": "markdown",
   "metadata": {},
   "source": [
    "Теперь функцию можно вызывать с любым набором товаров и курсом валюты."
   ]
  },
  {
   "cell_type": "code",
   "execution_count": 24,
   "metadata": {},
   "outputs": [
    {
     "data": {
      "text/plain": [
       "[10.2564, 25.641]"
      ]
     },
     "execution_count": 24,
     "metadata": {},
     "output_type": "execute_result"
    }
   ],
   "source": [
    "to_currency([{'title':'лодка','price':800},{'title':'палатка','price':2000}],78)"
   ]
  },
  {
   "cell_type": "markdown",
   "metadata": {},
   "source": [
    "<img src=../Img/pencil.png>\n",
    "<p style=\"background-color:powderblue; font-size:125%; color: rebeccapurple;\">Выполните задания</p>\n",
    "\n",
    "1. Напишите функцию `avg_orders()`, которая возвращает среднее число заказов, выполненных каждым менеджером. Входными данными являются данные в виде \n",
    "```\n",
    "orders_data=[{'manager':'Светлана','orders':12},\n",
    "             {'manager':'Светлана','orders':7},\n",
    "             {'manager':'Ирина','orders':3},\n",
    "             {'manager':'Ирина','orders':32},\n",
    "             {'manager':'Любовь','orders':70},\n",
    "             {'manager':'Любовь','orders':20}]\n",
    "```\n",
    "\n",
    "2. Перепишите функцию `to_currency()`, используя случайное число от 60 до 85 в качестве курса валюты. Для этого используйте функцию `random()` из модуля `random`, которая возвращает случайное число от 0 до 1.\n",
    "\n",
    "```\n",
    "from random import random\n",
    "print(random())\n",
    "\n",
    ">> 0.044591254255251456\n",
    "```"
   ]
  },
  {
   "cell_type": "markdown",
   "metadata": {},
   "source": [
    "<a id=2></a>\n",
    "[ <= ](#1)|| [Оглавление](#Ref) ||[ => ](#3)\n",
    "\n",
    "# 2. Функция как объект\n",
    "\n",
    "## 2.1. Функция как переменная"
   ]
  },
  {
   "cell_type": "markdown",
   "metadata": {},
   "source": [
    "В Python функции являются объектами, поэтому с ними можно обращаться, как переменными. Например, присвоить значение функции другой переменной."
   ]
  },
  {
   "cell_type": "code",
   "execution_count": 36,
   "metadata": {},
   "outputs": [
    {
     "name": "stdout",
     "output_type": "stream",
     "text": [
      "0.044591254255251456\n"
     ]
    }
   ],
   "source": [
    "from random import random\n",
    "print(random())"
   ]
  },
  {
   "cell_type": "code",
   "execution_count": 39,
   "metadata": {},
   "outputs": [
    {
     "name": "stdout",
     "output_type": "stream",
     "text": [
      "Hello\n"
     ]
    }
   ],
   "source": [
    "# Определим функцию, которая печатает \"привет\"  \n",
    "def say_hello():  \n",
    "    print(\"Hello\")  \n",
    "\n",
    "# Мы можем положить её в другую переменную  \n",
    "greetings = say_hello  \n",
    "\n",
    "# И она сработает так же, как исходная say_hello  \n",
    "greetings()  "
   ]
  },
  {
   "cell_type": "markdown",
   "metadata": {},
   "source": [
    "Так же вы можете передавать одну функцию в другую как аргумент. Когда мы обращаемся с функцией, как с переменной, мы не пишем скобки после имени функции."
   ]
  },
  {
   "cell_type": "code",
   "execution_count": 44,
   "metadata": {},
   "outputs": [],
   "source": [
    "def double_string(string):  \n",
    "    return string*2\n",
    "\n",
    "def apply_the_operation(operation, argument):  \n",
    "    print(f\"I'm using {operation} for the operation\")  \n",
    "    return operation(argument)"
   ]
  },
  {
   "cell_type": "code",
   "execution_count": 45,
   "metadata": {},
   "outputs": [
    {
     "name": "stdout",
     "output_type": "stream",
     "text": [
      "I'm using <function double_string at 0x000001DF412A00D0> for the operation\n"
     ]
    },
    {
     "data": {
      "text/plain": [
       "'hellohello'"
      ]
     },
     "execution_count": 45,
     "metadata": {},
     "output_type": "execute_result"
    }
   ],
   "source": [
    "# передаём функцию double_string() в apply_the_operation()\n",
    "apply_the_operation(double_string, 'hello')"
   ]
  },
  {
   "cell_type": "markdown",
   "metadata": {},
   "source": [
    "<a id=3></a>\n",
    "[ <= ](#2)|| [Оглавление](#Ref) ||[ => ](#4)\n",
    "\n",
    "## 2.2. Функция *map()*\n",
    "\n",
    "Мы видели, что можем передавать функцию как переменную. При работе с данными часто используется библиотечная функция `map()`, которая как раз одним из аргументов принимает функцию. `map()` применяет эту функцию к каждому элементу списка, который мы передаём вторым аргументом.\n",
    "\n",
    "Пусть, например, у нас есть список имён, и мы хотим получить для каждого вежливую форму. Определим функцию `polite_name()`, которая делает вежливым одно имя"
   ]
  },
  {
   "cell_type": "code",
   "execution_count": 47,
   "metadata": {},
   "outputs": [
    {
     "data": {
      "text/plain": [
       "['Mr. Boris', 'Mr. Ivan', 'Mr. Barak']"
      ]
     },
     "execution_count": 47,
     "metadata": {},
     "output_type": "execute_result"
    }
   ],
   "source": [
    "def polite_name(name):\n",
    "    return 'Mr. ' + name\n",
    "\n",
    "guests = [\"Boris\", \"Ivan\", \"Barak\"]\n",
    "guest_iterator = map(polite_name, guests)  # здесь мы применили polite_name к каждому имени  \n",
    "list(guest_iterator)"
   ]
  },
  {
   "cell_type": "markdown",
   "metadata": {},
   "source": [
    "Мы также можем использовать map со встроенными функциями. Вот, например, способ преобразовать строки в числа"
   ]
  },
  {
   "cell_type": "code",
   "execution_count": 48,
   "metadata": {},
   "outputs": [
    {
     "data": {
      "text/plain": [
       "[10.0, 1.0, 4.2, 0.73]"
      ]
     },
     "execution_count": 48,
     "metadata": {},
     "output_type": "execute_result"
    }
   ],
   "source": [
    "num_strings = [\"10\", \"1\", \"4.2\", \"0.73\"]  \n",
    "\n",
    "list(map(float, num_strings))"
   ]
  },
  {
   "cell_type": "markdown",
   "metadata": {},
   "source": [
    "Обратите внимание, в предыдущем примере чтобы вывести результат, нам пришлось использовать конструктор `list()`. Так происходит потому, что `map()` возвращает итератор.\n",
    "\n",
    "Еще пример"
   ]
  },
  {
   "cell_type": "code",
   "execution_count": 49,
   "metadata": {},
   "outputs": [
    {
     "data": {
      "text/plain": [
       "73"
      ]
     },
     "execution_count": 49,
     "metadata": {},
     "output_type": "execute_result"
    }
   ],
   "source": [
    "list(map(abs, [10,  -1, 42, -73]))[3]"
   ]
  },
  {
   "cell_type": "markdown",
   "metadata": {},
   "source": [
    "<img src=../Img/pencil.png>\n",
    "<p style=\"background-color:powderblue; font-size:125%; color: rebeccapurple;\">Выполните задания</p>\n",
    "\n",
    "1. Пусть у нас есть список слов, и мы хотим получить длину каждого слова. Например, из списка [\"Я\", \"студент\", \"Финансового\", \"университета\"] мы ожидаем получить список `[1, 7, 11, 12]` Что нам поставить на месте пропуска, чтобы выполнялась эта операция? \n",
    "\n",
    "```\n",
    "list(map(__, [\"Я\", \"студент\", \"Финансового\", \"университета\"]))\n",
    "```"
   ]
  },
  {
   "cell_type": "code",
   "execution_count": 52,
   "metadata": {},
   "outputs": [
    {
     "data": {
      "text/plain": [
       "[1, 7, 11, 12]"
      ]
     },
     "execution_count": 52,
     "metadata": {},
     "output_type": "execute_result"
    }
   ],
   "source": [
    "list(map(len, [\"Я\", \"студент\", \"Финансового\", \"университета\"]))"
   ]
  },
  {
   "cell_type": "markdown",
   "metadata": {},
   "source": [
    "<a id=4></a>\n",
    "[ <= ](#3)|| [Оглавление](#Ref) ||[ => ](#5)\n",
    "\n",
    "## 2.3. Лямбда-функция\n",
    "\n",
    "Лямбда-функции или, как их еще называют, анонимные функции могут содержать лишь одно выражение, и им необязательно давать имя. Анонимные функции создаются с помощью инструкции `lambda`.\n",
    "\n",
    "<u>Пример</u>. Создадим лямбда-функцию и присвоим её переменной *func*"
   ]
  },
  {
   "cell_type": "code",
   "execution_count": 63,
   "metadata": {},
   "outputs": [],
   "source": [
    "func=lambda x,y:x+y"
   ]
  },
  {
   "cell_type": "markdown",
   "metadata": {},
   "source": [
    "Теперь переменную *func* молжно использовать как обычную функцию."
   ]
  },
  {
   "cell_type": "code",
   "execution_count": 67,
   "metadata": {},
   "outputs": [
    {
     "name": "stdout",
     "output_type": "stream",
     "text": [
      "4\n",
      "fa.ru\n"
     ]
    }
   ],
   "source": [
    "print(func(1,3))\n",
    "print(func('fa','.ru'))"
   ]
  },
  {
   "cell_type": "markdown",
   "metadata": {},
   "source": [
    "Лямбда-функцию можно вызывать сразу, не используя дополнительных переменных"
   ]
  },
  {
   "cell_type": "code",
   "execution_count": 71,
   "metadata": {},
   "outputs": [
    {
     "data": {
      "text/plain": [
       "49"
      ]
     },
     "execution_count": 71,
     "metadata": {},
     "output_type": "execute_result"
    }
   ],
   "source": [
    "(lambda x,y: x**y)(7,2)"
   ]
  },
  {
   "cell_type": "markdown",
   "metadata": {},
   "source": [
    "Резюме\n",
    "\n",
    "- lambda вместо def\n",
    "- нет названия\n",
    "- аргументы без скобок\n",
    "- return не используется"
   ]
  },
  {
   "cell_type": "markdown",
   "metadata": {},
   "source": [
    "## 2.4. Лямбда + map = ♥\n",
    "\n",
    "Мы разобрались, как определять лямбда-функции, и теперь давайте попробуем применить их к map. Перепишем пример с вежливыми именами"
   ]
  },
  {
   "cell_type": "code",
   "execution_count": 72,
   "metadata": {},
   "outputs": [
    {
     "name": "stdout",
     "output_type": "stream",
     "text": [
      "['Mr. Boris', 'Mr. Ivan', 'Mr. Bob']\n"
     ]
    }
   ],
   "source": [
    "# исходная версия была такой  \n",
    "def polite_name(name):\n",
    "    return 'Mr. ' + name\n",
    "\n",
    "guests = [\"Boris\", \"Ivan\", \"Bob\"]  \n",
    "guest_iterator = list(map(polite_name, guests))\n",
    "print(guest_iterator)"
   ]
  },
  {
   "cell_type": "code",
   "execution_count": 73,
   "metadata": {},
   "outputs": [
    {
     "data": {
      "text/plain": [
       "['Mr. Boris', 'Mr. Ivan', 'Mr. Bob']"
      ]
     },
     "execution_count": 73,
     "metadata": {},
     "output_type": "execute_result"
    }
   ],
   "source": [
    "# Теперь перепишем с лямбда функцией  \n",
    "guests = [\"Boris\", \"Ivan\", \"Bob\"]\n",
    "list(map(lambda name: \"Mr. \" + name, guests))"
   ]
  }
 ],
 "metadata": {
  "kernelspec": {
   "display_name": "Python 3 (ipykernel)",
   "language": "python",
   "name": "python3"
  },
  "language_info": {
   "codemirror_mode": {
    "name": "ipython",
    "version": 3
   },
   "file_extension": ".py",
   "mimetype": "text/x-python",
   "name": "python",
   "nbconvert_exporter": "python",
   "pygments_lexer": "ipython3",
   "version": "3.9.12"
  }
 },
 "nbformat": 4,
 "nbformat_minor": 4
}
